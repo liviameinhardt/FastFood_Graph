{
 "cells": [
  {
   "cell_type": "code",
   "execution_count": 1,
   "metadata": {},
   "outputs": [],
   "source": [
    "import dash\n",
    "import dash_cytoscape as cyto\n",
    "import dash_html_components as html\n",
    "import json\n",
    "\n",
    "with open('grafo.txt') as json_file:\n",
    "    grafo = json.load(json_file)"
   ]
  },
  {
   "cell_type": "code",
   "execution_count": null,
   "metadata": {},
   "outputs": [
    {
     "name": "stdout",
     "output_type": "stream",
     "text": [
      "Dash is running on http://127.0.0.1:8050/\n",
      "\n",
      " * Serving Flask app \"__main__\" (lazy loading)\n",
      " * Environment: production\n",
      "   WARNING: This is a development server. Do not use it in a production deployment.\n",
      "   Use a production WSGI server instead.\n",
      " * Debug mode: off\n"
     ]
    },
    {
     "name": "stderr",
     "output_type": "stream",
     "text": [
      " * Running on http://127.0.0.1:8050/ (Press CTRL+C to quit)\n",
      "127.0.0.1 - - [28/Nov/2020 00:02:07] \"\u001b[37mGET / HTTP/1.1\u001b[0m\" 200 -\n",
      "127.0.0.1 - - [28/Nov/2020 00:02:07] \"\u001b[37mGET /_dash-dependencies HTTP/1.1\u001b[0m\" 200 -\n",
      "127.0.0.1 - - [28/Nov/2020 00:02:07] \"\u001b[37mGET /_dash-layout HTTP/1.1\u001b[0m\" 200 -\n"
     ]
    }
   ],
   "source": [
    "\n",
    "app = dash.Dash(__name__)\n",
    "\n",
    "app.layout = html.Div([\n",
    "    cyto.Cytoscape(\n",
    "        id='cytoscape',\n",
    "        layout={\n",
    "                'name': 'cose',\n",
    "                'idealEdgeLength': 100,\n",
    "                'nodeOverlap': 20,\n",
    "                'refresh': 20,\n",
    "                'fit': True,\n",
    "                'padding': 30,\n",
    "                'randomize': False,\n",
    "                'componentSpacing': 100,\n",
    "                'nodeRepulsion': 400000,\n",
    "                'edgeElasticity': 100,\n",
    "                'nestingFactor': 5,\n",
    "                'gravity': 80,\n",
    "                'numIter': 1000,\n",
    "                'initialTemp': 200,\n",
    "                'coolingFactor': 0.95,\n",
    "                'minTemp': 1.0\n",
    "            },\n",
    "        style={\n",
    "        'position': 'absolute',\n",
    "        'width': '100%',\n",
    "        'height': '100%',\n",
    "        'z-index': 999\n",
    "    },\n",
    "        elements=grafo['elements']\n",
    "    )\n",
    "])\n",
    "\n",
    "\n",
    "\n",
    "if __name__ == '__main__':\n",
    "    app.run_server(debug=False)    \n"
   ]
  }
 ],
 "metadata": {
  "kernelspec": {
   "display_name": "Python 3",
   "language": "python",
   "name": "python3"
  },
  "language_info": {
   "codemirror_mode": {
    "name": "ipython",
    "version": 3
   },
   "file_extension": ".py",
   "mimetype": "text/x-python",
   "name": "python",
   "nbconvert_exporter": "python",
   "pygments_lexer": "ipython3",
   "version": "3.8.5"
  }
 },
 "nbformat": 4,
 "nbformat_minor": 4
}
