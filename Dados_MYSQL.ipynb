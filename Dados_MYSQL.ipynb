{
 "cells": [
  {
   "cell_type": "markdown",
   "metadata": {},
   "source": [
    "# Obtenção dos dados"
   ]
  },
  {
   "cell_type": "markdown",
   "metadata": {},
   "source": [
    "#### Separamos esse trecho do código para deixar mais organizado, além de não precisar fazer a extração dos dados diretamente do MYSQL em cada execução do código principal."
   ]
  },
  {
   "cell_type": "markdown",
   "metadata": {},
   "source": [
    "Escolhemos trabalhar com a base de dados criada para a A1, que contém dados nutricionais de lanches de três redes de comida distintas: Mc Donalds, Burguer King e Starbucks. O primeiro passo, então, foi carregar os dados que estavam no MySQL para o Python utilizando as bibliotecas Pandas e Pymysql."
   ]
  },
  {
   "cell_type": "code",
   "execution_count": 1,
   "metadata": {},
   "outputs": [],
   "source": [
    "import pandas as pd\n",
    "import pymysql\n",
    "import getpass"
   ]
  },
  {
   "cell_type": "markdown",
   "metadata": {},
   "source": [
    "Criação da conexão com o banco local:"
   ]
  },
  {
   "cell_type": "code",
   "execution_count": 2,
   "metadata": {},
   "outputs": [
    {
     "name": "stdout",
     "output_type": "stream",
     "text": [
      "········\n"
     ]
    }
   ],
   "source": [
    "p = getpass.getpass()\n",
    "conexao = pymysql.connect(\n",
    "    host='localhost',\n",
    "    user='root',\n",
    "    port=3306,\n",
    "    passwd=p,\n",
    "    db=\"fast_food\")"
   ]
  },
  {
   "cell_type": "markdown",
   "metadata": {},
   "source": [
    "Queremos fazer uma visualização que permita comparar os valores nutricionais dos lanches (através do tamanho das arestas), para isso importamos todos os lanches, sua tabela nutricional, a rede a que pertence e sua categoria. Esses últimos serão úteis para filtrar os dados."
   ]
  },
  {
   "cell_type": "code",
   "execution_count": 3,
   "metadata": {},
   "outputs": [],
   "source": [
    "query = \"\"\"\n",
    "SELECT p.name, n.*, c.name as \"categoria\", p.chain_id_chain as \"rede\"\n",
    "FROM nutricional_units n\n",
    "INNER JOIN product p ON n.id_nutricional_units = p.nutricional_units_id_nutricional_units\n",
    "INNER JOIN category c ON p.category_id_category = c.id_category;\n",
    "\"\"\"\n",
    "\n",
    "df = pd.read_sql(query, con=conexao, index_col = \"name\")"
   ]
  },
  {
   "cell_type": "markdown",
   "metadata": {},
   "source": [
    "# Tratamento dos dados"
   ]
  },
  {
   "cell_type": "markdown",
   "metadata": {},
   "source": [
    "#### Para que a visualização do grafo ficasse da maneira que planejamos, precisamos tratar os dados obtidos."
   ]
  },
  {
   "cell_type": "markdown",
   "metadata": {},
   "source": [
    "A primeira coluna do df é a id do nutriente, que não será necessária, então começamos a excluindo:"
   ]
  },
  {
   "cell_type": "code",
   "execution_count": 4,
   "metadata": {},
   "outputs": [],
   "source": [
    "df = df.drop([\"id_nutricional_units\"],axis=1)"
   ]
  },
  {
   "cell_type": "markdown",
   "metadata": {},
   "source": [
    "Queremos que o tamanho (grossura) da aresta represente a quantidade presente do nutriente no lanche conectado. Como o range dentre os diferentes nutrientes é muito diferente, precisamos normalizar os dados para melhor visualização:"
   ]
  },
  {
   "cell_type": "code",
   "execution_count": 5,
   "metadata": {},
   "outputs": [],
   "source": [
    "col=[x for x in df.columns[0:len(df.columns)-2]] #pegar os nomes das colunas de nutrientes (-2 exclui \"categoria\" e \"rede\")\n",
    "nutrientes = df[col].copy() # criar uma cópia, somente com as colunas dos nutrientes\n",
    "\n",
    "nutri_norm = (nutrientes - nutrientes.mean()) / nutrientes.std() #normalizar os nutrientes\n",
    "nutri_min = abs(nutri_norm.min())\n",
    "\n",
    "nutri_norm = nutri_norm + nutri_min + 1 #deixar todos os valores > 0\n",
    "\n",
    "for nutriente in col:\n",
    "    df[nutriente] = nutri_norm[nutriente] # aplica a normalização feita no df original"
   ]
  },
  {
   "cell_type": "markdown",
   "metadata": {},
   "source": [
    "Iremos representar as redes pelas suas cores características, para facilitar o processo, trocamos cada nome no dataframe pela cor que queremos aplicar:"
   ]
  },
  {
   "cell_type": "code",
   "execution_count": 6,
   "metadata": {},
   "outputs": [],
   "source": [
    "#atribuir cor de acordo com as redes\n",
    "cores = {1:\"#0055AA\",2:\"#CF1C24\",3:\"#24704D\"}  \n",
    "\n",
    "df.replace({'rede': cores},inplace=True)"
   ]
  },
  {
   "cell_type": "markdown",
   "metadata": {},
   "source": [
    "Os NA podem ser trocados por 0 no nosso problema, pois de qualquer modo não serão representados pelos nodes. Caso fossem ignorados todos os dados que possuem NA, perderíamos muitas informações, pois muitos lanches seriam excluidos da base."
   ]
  },
  {
   "cell_type": "code",
   "execution_count": 7,
   "metadata": {},
   "outputs": [],
   "source": [
    "df.fillna(0,inplace=True)"
   ]
  },
  {
   "cell_type": "markdown",
   "metadata": {},
   "source": [
    "Por fim, simplismente renomeamos as colunas dos nutrientes, pois serão os nomes utilizados nos nodes e no banco estão em inglês, além de alguns contem \"_\", o que não seria agradável na visualização do grafo."
   ]
  },
  {
   "cell_type": "code",
   "execution_count": 8,
   "metadata": {},
   "outputs": [],
   "source": [
    "# 'col' foi definido acima e seleciona somente as colunas dos nutrientes\n",
    "col_names = ['calorias','gorduras totais','gorduras saturadas','gorduras trans','colesterol','sódio','carboidratos','fibras','açúcares','proteínas','vitamina A','vitamina C','cálcio','ferro', 'sal', 'cafeína']\n",
    "\n",
    "df = df.rename(columns=dict(zip(col,col_names))) #renomeia as colunas dos nutrientes com os novos nomes (na lista col_names)"
   ]
  },
  {
   "cell_type": "markdown",
   "metadata": {},
   "source": [
    "Por último, renomeamos as categorias para usarmos, posteriormente, como filtros. Nesse novo formato, temos menos categorias, o que tornará o processo futuro mais simples e organizado."
   ]
  },
  {
   "cell_type": "code",
   "execution_count": 9,
   "metadata": {},
   "outputs": [
    {
     "data": {
      "text/plain": [
       "array(['SANDUICHE DE CARNE', 'SANDUICHE DE FRANGO/PEIXE', 'VEGGIES',\n",
       "       'ACOMPANHAMENTO', 'MOLHO', 'SOBREMESA', 'SMOOTHIE/SHAKE',\n",
       "       'CAFE DA MANHA', 'SALADA', 'BEBIDAS', 'OUTROS SANDUICHES'],\n",
       "      dtype=object)"
      ]
     },
     "execution_count": 9,
     "metadata": {},
     "output_type": "execute_result"
    }
   ],
   "source": [
    "cat = df.categoria.unique().copy() #pegar as categorias antigas\n",
    "\n",
    "# definir novas categorias (poderia ser feito com regex também)\n",
    "novas = ['SANDUICHE DE CARNE', 'SANDUICHE DE CARNE', 'SANDUICHE DE FRANGO/PEIXE','VEGGIES','ACOMPANHAMENTO','MOLHO','SOBREMESA','SMOOTHIE/SHAKE','CAFE DA MANHA', 'SANDUICHE DE CARNE','SANDUICHE DE FRANGO/PEIXE','SALADA','ACOMPANHAMENTO','SOBREMESA','BEBIDAS','BEBIDAS','SMOOTHIE/SHAKE',\n",
    " 'CAFE DA MANHA','VEGGIES','VEGGIES', 'SOBREMESA','SOBREMESA','VEGGIES','CAFE DA MANHA','CAFE DA MANHA','OUTROS SANDUICHES','OUTROS SANDUICHES','OUTROS SANDUICHES','SALADA','BEBIDAS',\n",
    " 'BEBIDAS', 'BEBIDAS','BEBIDAS','BEBIDAS','BEBIDAS','BEBIDAS','BEBIDAS','BEBIDAS','BEBIDAS','SMOOTHIE/SHAKE','BEBIDAS','BEBIDAS']\n",
    "\n",
    "\n",
    "df.replace(dict(zip(cat,novas)),inplace=True) #atribuir as novas categorias\n",
    "df.categoria.unique() #imprimir as novas categorias"
   ]
  },
  {
   "cell_type": "markdown",
   "metadata": {},
   "source": [
    "# Resultado"
   ]
  },
  {
   "cell_type": "markdown",
   "metadata": {},
   "source": [
    "#### Após esses passos iniciais obtemos o seguinte data frame:"
   ]
  },
  {
   "cell_type": "code",
   "execution_count": 10,
   "metadata": {},
   "outputs": [
    {
     "data": {
      "text/html": [
       "<div>\n",
       "<style scoped>\n",
       "    .dataframe tbody tr th:only-of-type {\n",
       "        vertical-align: middle;\n",
       "    }\n",
       "\n",
       "    .dataframe tbody tr th {\n",
       "        vertical-align: top;\n",
       "    }\n",
       "\n",
       "    .dataframe thead th {\n",
       "        text-align: right;\n",
       "    }\n",
       "</style>\n",
       "<table border=\"1\" class=\"dataframe\">\n",
       "  <thead>\n",
       "    <tr style=\"text-align: right;\">\n",
       "      <th></th>\n",
       "      <th>calorias</th>\n",
       "      <th>gorduras totais</th>\n",
       "      <th>gorduras saturadas</th>\n",
       "      <th>gorduras trans</th>\n",
       "      <th>colesterol</th>\n",
       "      <th>sódio</th>\n",
       "      <th>carboidratos</th>\n",
       "      <th>fibras</th>\n",
       "      <th>açúcares</th>\n",
       "      <th>proteínas</th>\n",
       "      <th>vitamina A</th>\n",
       "      <th>vitamina C</th>\n",
       "      <th>cálcio</th>\n",
       "      <th>ferro</th>\n",
       "      <th>sal</th>\n",
       "      <th>cafeína</th>\n",
       "      <th>categoria</th>\n",
       "      <th>rede</th>\n",
       "    </tr>\n",
       "    <tr>\n",
       "      <th>name</th>\n",
       "      <th></th>\n",
       "      <th></th>\n",
       "      <th></th>\n",
       "      <th></th>\n",
       "      <th></th>\n",
       "      <th></th>\n",
       "      <th></th>\n",
       "      <th></th>\n",
       "      <th></th>\n",
       "      <th></th>\n",
       "      <th></th>\n",
       "      <th></th>\n",
       "      <th></th>\n",
       "      <th></th>\n",
       "      <th></th>\n",
       "      <th></th>\n",
       "      <th></th>\n",
       "      <th></th>\n",
       "    </tr>\n",
       "  </thead>\n",
       "  <tbody>\n",
       "    <tr>\n",
       "      <th>WHOPPER</th>\n",
       "      <td>3.505575</td>\n",
       "      <td>2.984077</td>\n",
       "      <td>2.897831</td>\n",
       "      <td>1.0</td>\n",
       "      <td>0.000000</td>\n",
       "      <td>1.002474</td>\n",
       "      <td>1.214283</td>\n",
       "      <td>1.371581</td>\n",
       "      <td>0.000000</td>\n",
       "      <td>3.481996</td>\n",
       "      <td>0.000000</td>\n",
       "      <td>0.0</td>\n",
       "      <td>0.000000</td>\n",
       "      <td>0.0</td>\n",
       "      <td>0.0</td>\n",
       "      <td>0.0</td>\n",
       "      <td>SANDUICHE DE CARNE</td>\n",
       "      <td>#0055AA</td>\n",
       "    </tr>\n",
       "    <tr>\n",
       "      <th>WHOPPER DUPLO</th>\n",
       "      <td>4.612173</td>\n",
       "      <td>4.287898</td>\n",
       "      <td>3.696918</td>\n",
       "      <td>1.0</td>\n",
       "      <td>0.000000</td>\n",
       "      <td>1.002474</td>\n",
       "      <td>1.198410</td>\n",
       "      <td>1.557372</td>\n",
       "      <td>0.000000</td>\n",
       "      <td>5.226101</td>\n",
       "      <td>0.000000</td>\n",
       "      <td>0.0</td>\n",
       "      <td>0.000000</td>\n",
       "      <td>0.0</td>\n",
       "      <td>0.0</td>\n",
       "      <td>0.0</td>\n",
       "      <td>SANDUICHE DE CARNE</td>\n",
       "      <td>#0055AA</td>\n",
       "    </tr>\n",
       "    <tr>\n",
       "      <th>WHOPPER FURIOSO</th>\n",
       "      <td>4.101435</td>\n",
       "      <td>3.380892</td>\n",
       "      <td>2.797945</td>\n",
       "      <td>1.0</td>\n",
       "      <td>0.000000</td>\n",
       "      <td>1.004948</td>\n",
       "      <td>1.234124</td>\n",
       "      <td>1.371581</td>\n",
       "      <td>0.000000</td>\n",
       "      <td>3.616158</td>\n",
       "      <td>0.000000</td>\n",
       "      <td>0.0</td>\n",
       "      <td>0.000000</td>\n",
       "      <td>0.0</td>\n",
       "      <td>0.0</td>\n",
       "      <td>0.0</td>\n",
       "      <td>SANDUICHE DE CARNE</td>\n",
       "      <td>#0055AA</td>\n",
       "    </tr>\n",
       "    <tr>\n",
       "      <th>WHOPPER JR.</th>\n",
       "      <td>2.365668</td>\n",
       "      <td>2.020382</td>\n",
       "      <td>1.099886</td>\n",
       "      <td>1.0</td>\n",
       "      <td>0.000000</td>\n",
       "      <td>2.561174</td>\n",
       "      <td>1.126982</td>\n",
       "      <td>1.371581</td>\n",
       "      <td>0.000000</td>\n",
       "      <td>2.408700</td>\n",
       "      <td>0.000000</td>\n",
       "      <td>0.0</td>\n",
       "      <td>0.000000</td>\n",
       "      <td>0.0</td>\n",
       "      <td>0.0</td>\n",
       "      <td>0.0</td>\n",
       "      <td>SANDUICHE DE CARNE</td>\n",
       "      <td>#0055AA</td>\n",
       "    </tr>\n",
       "    <tr>\n",
       "      <th>WHOPPER JR. BARBECUE BACON</th>\n",
       "      <td>2.654346</td>\n",
       "      <td>2.247134</td>\n",
       "      <td>1.998859</td>\n",
       "      <td>1.0</td>\n",
       "      <td>0.000000</td>\n",
       "      <td>3.145068</td>\n",
       "      <td>1.146823</td>\n",
       "      <td>1.371581</td>\n",
       "      <td>0.000000</td>\n",
       "      <td>2.811186</td>\n",
       "      <td>0.000000</td>\n",
       "      <td>0.0</td>\n",
       "      <td>0.000000</td>\n",
       "      <td>0.0</td>\n",
       "      <td>0.0</td>\n",
       "      <td>0.0</td>\n",
       "      <td>SANDUICHE DE CARNE</td>\n",
       "      <td>#0055AA</td>\n",
       "    </tr>\n",
       "    <tr>\n",
       "      <th>...</th>\n",
       "      <td>...</td>\n",
       "      <td>...</td>\n",
       "      <td>...</td>\n",
       "      <td>...</td>\n",
       "      <td>...</td>\n",
       "      <td>...</td>\n",
       "      <td>...</td>\n",
       "      <td>...</td>\n",
       "      <td>...</td>\n",
       "      <td>...</td>\n",
       "      <td>...</td>\n",
       "      <td>...</td>\n",
       "      <td>...</td>\n",
       "      <td>...</td>\n",
       "      <td>...</td>\n",
       "      <td>...</td>\n",
       "      <td>...</td>\n",
       "      <td>...</td>\n",
       "    </tr>\n",
       "    <tr>\n",
       "      <th>SWEETENED WHIPPED CREAM SHORT - HOT</th>\n",
       "      <td>1.185050</td>\n",
       "      <td>1.283440</td>\n",
       "      <td>1.299658</td>\n",
       "      <td>1.0</td>\n",
       "      <td>1.321372</td>\n",
       "      <td>1.012371</td>\n",
       "      <td>1.003968</td>\n",
       "      <td>1.000000</td>\n",
       "      <td>1.041546</td>\n",
       "      <td>1.000000</td>\n",
       "      <td>1.345003</td>\n",
       "      <td>1.0</td>\n",
       "      <td>1.000000</td>\n",
       "      <td>1.0</td>\n",
       "      <td>0.0</td>\n",
       "      <td>1.0</td>\n",
       "      <td>BEBIDAS</td>\n",
       "      <td>#24704D</td>\n",
       "    </tr>\n",
       "    <tr>\n",
       "      <th>SWEETENED WHIPPED CREAM TALL - HOT</th>\n",
       "      <td>1.222060</td>\n",
       "      <td>1.340127</td>\n",
       "      <td>1.399543</td>\n",
       "      <td>1.0</td>\n",
       "      <td>1.321372</td>\n",
       "      <td>1.012371</td>\n",
       "      <td>1.007936</td>\n",
       "      <td>1.000000</td>\n",
       "      <td>1.041546</td>\n",
       "      <td>1.000000</td>\n",
       "      <td>1.345003</td>\n",
       "      <td>1.0</td>\n",
       "      <td>1.000000</td>\n",
       "      <td>1.0</td>\n",
       "      <td>0.0</td>\n",
       "      <td>1.0</td>\n",
       "      <td>BEBIDAS</td>\n",
       "      <td>#24704D</td>\n",
       "    </tr>\n",
       "    <tr>\n",
       "      <th>SWEETENED WHIPPED CREAM GRANDE/VENTI® - HOT</th>\n",
       "      <td>1.259070</td>\n",
       "      <td>1.396815</td>\n",
       "      <td>1.499429</td>\n",
       "      <td>1.0</td>\n",
       "      <td>1.401715</td>\n",
       "      <td>1.012371</td>\n",
       "      <td>1.007936</td>\n",
       "      <td>1.000000</td>\n",
       "      <td>1.083092</td>\n",
       "      <td>1.000000</td>\n",
       "      <td>1.460004</td>\n",
       "      <td>1.0</td>\n",
       "      <td>1.119992</td>\n",
       "      <td>1.0</td>\n",
       "      <td>0.0</td>\n",
       "      <td>1.0</td>\n",
       "      <td>BEBIDAS</td>\n",
       "      <td>#24704D</td>\n",
       "    </tr>\n",
       "    <tr>\n",
       "      <th>SWEETENED WHIPPED CREAM TALL - COLD</th>\n",
       "      <td>1.296080</td>\n",
       "      <td>1.453503</td>\n",
       "      <td>1.499429</td>\n",
       "      <td>1.0</td>\n",
       "      <td>1.482058</td>\n",
       "      <td>1.024741</td>\n",
       "      <td>1.007936</td>\n",
       "      <td>1.000000</td>\n",
       "      <td>1.083092</td>\n",
       "      <td>1.000000</td>\n",
       "      <td>1.575005</td>\n",
       "      <td>1.0</td>\n",
       "      <td>1.119992</td>\n",
       "      <td>1.0</td>\n",
       "      <td>0.0</td>\n",
       "      <td>1.0</td>\n",
       "      <td>BEBIDAS</td>\n",
       "      <td>#24704D</td>\n",
       "    </tr>\n",
       "    <tr>\n",
       "      <th>SWEETENED WHIPPED CREAM GRANDE/VENTI® - COLD</th>\n",
       "      <td>1.407110</td>\n",
       "      <td>1.623567</td>\n",
       "      <td>1.699201</td>\n",
       "      <td>1.0</td>\n",
       "      <td>1.642744</td>\n",
       "      <td>1.024741</td>\n",
       "      <td>1.011905</td>\n",
       "      <td>1.000000</td>\n",
       "      <td>1.083092</td>\n",
       "      <td>1.067081</td>\n",
       "      <td>1.862507</td>\n",
       "      <td>1.0</td>\n",
       "      <td>1.119992</td>\n",
       "      <td>1.0</td>\n",
       "      <td>0.0</td>\n",
       "      <td>1.0</td>\n",
       "      <td>BEBIDAS</td>\n",
       "      <td>#24704D</td>\n",
       "    </tr>\n",
       "  </tbody>\n",
       "</table>\n",
       "<p>759 rows × 18 columns</p>\n",
       "</div>"
      ],
      "text/plain": [
       "                                              calorias  gorduras totais  \\\n",
       "name                                                                      \n",
       "WHOPPER                                       3.505575         2.984077   \n",
       "WHOPPER DUPLO                                 4.612173         4.287898   \n",
       "WHOPPER FURIOSO                               4.101435         3.380892   \n",
       "WHOPPER JR.                                   2.365668         2.020382   \n",
       "WHOPPER JR. BARBECUE BACON                    2.654346         2.247134   \n",
       "...                                                ...              ...   \n",
       "SWEETENED WHIPPED CREAM SHORT - HOT           1.185050         1.283440   \n",
       "SWEETENED WHIPPED CREAM TALL - HOT            1.222060         1.340127   \n",
       "SWEETENED WHIPPED CREAM GRANDE/VENTI® - HOT   1.259070         1.396815   \n",
       "SWEETENED WHIPPED CREAM TALL - COLD           1.296080         1.453503   \n",
       "SWEETENED WHIPPED CREAM GRANDE/VENTI® - COLD  1.407110         1.623567   \n",
       "\n",
       "                                              gorduras saturadas  \\\n",
       "name                                                               \n",
       "WHOPPER                                                 2.897831   \n",
       "WHOPPER DUPLO                                           3.696918   \n",
       "WHOPPER FURIOSO                                         2.797945   \n",
       "WHOPPER JR.                                             1.099886   \n",
       "WHOPPER JR. BARBECUE BACON                              1.998859   \n",
       "...                                                          ...   \n",
       "SWEETENED WHIPPED CREAM SHORT - HOT                     1.299658   \n",
       "SWEETENED WHIPPED CREAM TALL - HOT                      1.399543   \n",
       "SWEETENED WHIPPED CREAM GRANDE/VENTI® - HOT             1.499429   \n",
       "SWEETENED WHIPPED CREAM TALL - COLD                     1.499429   \n",
       "SWEETENED WHIPPED CREAM GRANDE/VENTI® - COLD            1.699201   \n",
       "\n",
       "                                              gorduras trans  colesterol  \\\n",
       "name                                                                       \n",
       "WHOPPER                                                  1.0    0.000000   \n",
       "WHOPPER DUPLO                                            1.0    0.000000   \n",
       "WHOPPER FURIOSO                                          1.0    0.000000   \n",
       "WHOPPER JR.                                              1.0    0.000000   \n",
       "WHOPPER JR. BARBECUE BACON                               1.0    0.000000   \n",
       "...                                                      ...         ...   \n",
       "SWEETENED WHIPPED CREAM SHORT - HOT                      1.0    1.321372   \n",
       "SWEETENED WHIPPED CREAM TALL - HOT                       1.0    1.321372   \n",
       "SWEETENED WHIPPED CREAM GRANDE/VENTI® - HOT              1.0    1.401715   \n",
       "SWEETENED WHIPPED CREAM TALL - COLD                      1.0    1.482058   \n",
       "SWEETENED WHIPPED CREAM GRANDE/VENTI® - COLD             1.0    1.642744   \n",
       "\n",
       "                                                 sódio  carboidratos  \\\n",
       "name                                                                   \n",
       "WHOPPER                                       1.002474      1.214283   \n",
       "WHOPPER DUPLO                                 1.002474      1.198410   \n",
       "WHOPPER FURIOSO                               1.004948      1.234124   \n",
       "WHOPPER JR.                                   2.561174      1.126982   \n",
       "WHOPPER JR. BARBECUE BACON                    3.145068      1.146823   \n",
       "...                                                ...           ...   \n",
       "SWEETENED WHIPPED CREAM SHORT - HOT           1.012371      1.003968   \n",
       "SWEETENED WHIPPED CREAM TALL - HOT            1.012371      1.007936   \n",
       "SWEETENED WHIPPED CREAM GRANDE/VENTI® - HOT   1.012371      1.007936   \n",
       "SWEETENED WHIPPED CREAM TALL - COLD           1.024741      1.007936   \n",
       "SWEETENED WHIPPED CREAM GRANDE/VENTI® - COLD  1.024741      1.011905   \n",
       "\n",
       "                                                fibras  açúcares  proteínas  \\\n",
       "name                                                                          \n",
       "WHOPPER                                       1.371581  0.000000   3.481996   \n",
       "WHOPPER DUPLO                                 1.557372  0.000000   5.226101   \n",
       "WHOPPER FURIOSO                               1.371581  0.000000   3.616158   \n",
       "WHOPPER JR.                                   1.371581  0.000000   2.408700   \n",
       "WHOPPER JR. BARBECUE BACON                    1.371581  0.000000   2.811186   \n",
       "...                                                ...       ...        ...   \n",
       "SWEETENED WHIPPED CREAM SHORT - HOT           1.000000  1.041546   1.000000   \n",
       "SWEETENED WHIPPED CREAM TALL - HOT            1.000000  1.041546   1.000000   \n",
       "SWEETENED WHIPPED CREAM GRANDE/VENTI® - HOT   1.000000  1.083092   1.000000   \n",
       "SWEETENED WHIPPED CREAM TALL - COLD           1.000000  1.083092   1.000000   \n",
       "SWEETENED WHIPPED CREAM GRANDE/VENTI® - COLD  1.000000  1.083092   1.067081   \n",
       "\n",
       "                                              vitamina A  vitamina C  \\\n",
       "name                                                                   \n",
       "WHOPPER                                         0.000000         0.0   \n",
       "WHOPPER DUPLO                                   0.000000         0.0   \n",
       "WHOPPER FURIOSO                                 0.000000         0.0   \n",
       "WHOPPER JR.                                     0.000000         0.0   \n",
       "WHOPPER JR. BARBECUE BACON                      0.000000         0.0   \n",
       "...                                                  ...         ...   \n",
       "SWEETENED WHIPPED CREAM SHORT - HOT             1.345003         1.0   \n",
       "SWEETENED WHIPPED CREAM TALL - HOT              1.345003         1.0   \n",
       "SWEETENED WHIPPED CREAM GRANDE/VENTI® - HOT     1.460004         1.0   \n",
       "SWEETENED WHIPPED CREAM TALL - COLD             1.575005         1.0   \n",
       "SWEETENED WHIPPED CREAM GRANDE/VENTI® - COLD    1.862507         1.0   \n",
       "\n",
       "                                                cálcio  ferro  sal  cafeína  \\\n",
       "name                                                                          \n",
       "WHOPPER                                       0.000000    0.0  0.0      0.0   \n",
       "WHOPPER DUPLO                                 0.000000    0.0  0.0      0.0   \n",
       "WHOPPER FURIOSO                               0.000000    0.0  0.0      0.0   \n",
       "WHOPPER JR.                                   0.000000    0.0  0.0      0.0   \n",
       "WHOPPER JR. BARBECUE BACON                    0.000000    0.0  0.0      0.0   \n",
       "...                                                ...    ...  ...      ...   \n",
       "SWEETENED WHIPPED CREAM SHORT - HOT           1.000000    1.0  0.0      1.0   \n",
       "SWEETENED WHIPPED CREAM TALL - HOT            1.000000    1.0  0.0      1.0   \n",
       "SWEETENED WHIPPED CREAM GRANDE/VENTI® - HOT   1.119992    1.0  0.0      1.0   \n",
       "SWEETENED WHIPPED CREAM TALL - COLD           1.119992    1.0  0.0      1.0   \n",
       "SWEETENED WHIPPED CREAM GRANDE/VENTI® - COLD  1.119992    1.0  0.0      1.0   \n",
       "\n",
       "                                                       categoria     rede  \n",
       "name                                                                       \n",
       "WHOPPER                                       SANDUICHE DE CARNE  #0055AA  \n",
       "WHOPPER DUPLO                                 SANDUICHE DE CARNE  #0055AA  \n",
       "WHOPPER FURIOSO                               SANDUICHE DE CARNE  #0055AA  \n",
       "WHOPPER JR.                                   SANDUICHE DE CARNE  #0055AA  \n",
       "WHOPPER JR. BARBECUE BACON                    SANDUICHE DE CARNE  #0055AA  \n",
       "...                                                          ...      ...  \n",
       "SWEETENED WHIPPED CREAM SHORT - HOT                      BEBIDAS  #24704D  \n",
       "SWEETENED WHIPPED CREAM TALL - HOT                       BEBIDAS  #24704D  \n",
       "SWEETENED WHIPPED CREAM GRANDE/VENTI® - HOT              BEBIDAS  #24704D  \n",
       "SWEETENED WHIPPED CREAM TALL - COLD                      BEBIDAS  #24704D  \n",
       "SWEETENED WHIPPED CREAM GRANDE/VENTI® - COLD             BEBIDAS  #24704D  \n",
       "\n",
       "[759 rows x 18 columns]"
      ]
     },
     "execution_count": 10,
     "metadata": {},
     "output_type": "execute_result"
    }
   ],
   "source": [
    "df"
   ]
  },
  {
   "cell_type": "markdown",
   "metadata": {},
   "source": [
    "# Exportação do data frame"
   ]
  },
  {
   "cell_type": "code",
   "execution_count": 11,
   "metadata": {},
   "outputs": [],
   "source": [
    "df.to_csv(\"fastfood.csv\")"
   ]
  }
 ],
 "metadata": {
  "kernelspec": {
   "display_name": "Python 3",
   "language": "python",
   "name": "python3"
  },
  "language_info": {
   "codemirror_mode": {
    "name": "ipython",
    "version": 3
   },
   "file_extension": ".py",
   "mimetype": "text/x-python",
   "name": "python",
   "nbconvert_exporter": "python",
   "pygments_lexer": "ipython3",
   "version": "3.8.5"
  }
 },
 "nbformat": 4,
 "nbformat_minor": 4
}
